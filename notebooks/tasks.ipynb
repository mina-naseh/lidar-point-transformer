{
 "cells": [
  {
   "cell_type": "markdown",
   "metadata": {},
   "source": [
    "There are baseline codes on the website that can help us.\n",
    "\n",
    "Preprocessing:\n",
    "- Handle data loading, cleaning, and normalization.\n",
    "- Partition datasets into training and testing sets.\n",
    "- Document the preprocessing pipeline for the final report.\n",
    "  \n",
    "Implementing Detection Algorithms:\n",
    "- We need to read about Point Transformer model\n",
    "- Start with the baseline algorithm (local maxima filtering) to establish a benchmark.\n",
    "- Implement and train the Point Transformer model for tree detection.\n",
    "  \n",
    "Evaluation and Comparison:\n",
    "- Evaluate the results of the detection pipeline using metrics (precision, recall, F1-score, distance error).\n",
    "- Compare the advanced model (Point Transformer) with the baseline.\n",
    "  \n",
    "Visualization:\n",
    "- Create 2D/3D visualizations of detected tree locations overlaying the LiDAR point cloud.\n",
    "- Produce comparative visualizations for the baseline and advanced models."
   ]
  },
  {
   "cell_type": "markdown",
   "metadata": {},
   "source": []
  }
 ],
 "metadata": {
  "language_info": {
   "name": "python"
  }
 },
 "nbformat": 4,
 "nbformat_minor": 2
}
